{
 "cells": [
  {
   "cell_type": "code",
   "execution_count": null,
   "metadata": {},
   "outputs": [],
   "source": [
    "# Projet KAGGLE : SVM et réseaux de neuronnes S1 - M2 EKAP \n",
    "# Gabin LAGRE et Astrid VALICON\n",
    "\n",
    "# Tâche : déterminer quand un signal est présent dans les données (target = 1)\n",
    "# prévoir la probabilité que l’observation contienne une onde gravitationnelle"
   ]
  },
  {
   "cell_type": "code",
   "execution_count": 62,
   "metadata": {},
   "outputs": [
    {
     "name": "stdout",
     "output_type": "stream",
     "text": [
      "Collecting torch\n",
      "  Downloading torch-1.10.0-cp38-none-macosx_10_9_x86_64.whl (147.1 MB)\n",
      "\u001b[K     |████████████████████████████████| 147.1 MB 36 kB/s  eta 0:00:01    |██████████████████              | 82.9 MB 2.8 MB/s eta 0:00:24     |██████████████████████████▎     | 120.6 MB 3.3 MB/s eta 0:00:09\n",
      "\u001b[?25hRequirement already satisfied: typing-extensions in /opt/anaconda3/lib/python3.8/site-packages (from torch) (3.7.4.2)\n",
      "Installing collected packages: torch\n",
      "Successfully installed torch-1.10.0\n",
      "Note: you may need to restart the kernel to use updated packages.\n"
     ]
    }
   ],
   "source": [
    "pip install torch"
   ]
  },
  {
   "cell_type": "code",
   "execution_count": 2,
   "metadata": {},
   "outputs": [],
   "source": [
    "# Librairies\n",
    "\n",
    "import numpy as np\n",
    "import pandas as pd\n",
    "import matplotlib.pyplot as plt \n",
    "import seaborn as sns\n",
    "from sklearn.model_selection import train_test_split\n",
    "from glob import glob # importation des données .npy\n",
    "from tqdm import tqdm # graphiques\n",
    "import librosa \n",
    "import librosa.display\n",
    "from sklearn import datasets\n",
    "import tensorflow as tf\n",
    "from sklearn.metrics import classification_report, accuracy_score, confusion_matrix, roc_curve, auc\n",
    "from sklearn.svm import SVC\n",
    "\n"
   ]
  },
  {
   "cell_type": "code",
   "execution_count": 1,
   "metadata": {},
   "outputs": [
    {
     "name": "stdout",
     "output_type": "stream",
     "text": [
      "Requirement already up-to-date: efficientnet in /opt/anaconda3/lib/python3.8/site-packages (1.1.1)\n",
      "Requirement already satisfied, skipping upgrade: scikit-image in /opt/anaconda3/lib/python3.8/site-packages (from efficientnet) (0.16.2)\n",
      "Requirement already satisfied, skipping upgrade: keras-applications<=1.0.8,>=1.0.7 in /opt/anaconda3/lib/python3.8/site-packages (from efficientnet) (1.0.8)\n",
      "Requirement already satisfied, skipping upgrade: imageio>=2.3.0 in /opt/anaconda3/lib/python3.8/site-packages (from scikit-image->efficientnet) (2.9.0)\n",
      "Requirement already satisfied, skipping upgrade: networkx>=2.0 in /opt/anaconda3/lib/python3.8/site-packages (from scikit-image->efficientnet) (2.4)\n",
      "Requirement already satisfied, skipping upgrade: pillow>=4.3.0 in /opt/anaconda3/lib/python3.8/site-packages (from scikit-image->efficientnet) (7.2.0)\n",
      "Requirement already satisfied, skipping upgrade: matplotlib!=3.0.0,>=2.0.0 in /opt/anaconda3/lib/python3.8/site-packages (from scikit-image->efficientnet) (3.2.2)\n",
      "Requirement already satisfied, skipping upgrade: PyWavelets>=0.4.0 in /opt/anaconda3/lib/python3.8/site-packages (from scikit-image->efficientnet) (1.1.1)\n",
      "Requirement already satisfied, skipping upgrade: scipy>=0.19.0 in /opt/anaconda3/lib/python3.8/site-packages (from scikit-image->efficientnet) (1.5.0)\n",
      "Requirement already satisfied, skipping upgrade: numpy>=1.9.1 in /opt/anaconda3/lib/python3.8/site-packages (from keras-applications<=1.0.8,>=1.0.7->efficientnet) (1.19.5)\n",
      "Requirement already satisfied, skipping upgrade: h5py in /opt/anaconda3/lib/python3.8/site-packages (from keras-applications<=1.0.8,>=1.0.7->efficientnet) (3.1.0)\n",
      "Requirement already satisfied, skipping upgrade: decorator>=4.3.0 in /opt/anaconda3/lib/python3.8/site-packages (from networkx>=2.0->scikit-image->efficientnet) (4.4.2)\n",
      "Requirement already satisfied, skipping upgrade: python-dateutil>=2.1 in /opt/anaconda3/lib/python3.8/site-packages (from matplotlib!=3.0.0,>=2.0.0->scikit-image->efficientnet) (2.8.1)\n",
      "Requirement already satisfied, skipping upgrade: cycler>=0.10 in /opt/anaconda3/lib/python3.8/site-packages (from matplotlib!=3.0.0,>=2.0.0->scikit-image->efficientnet) (0.10.0)\n",
      "Requirement already satisfied, skipping upgrade: pyparsing!=2.0.4,!=2.1.2,!=2.1.6,>=2.0.1 in /opt/anaconda3/lib/python3.8/site-packages (from matplotlib!=3.0.0,>=2.0.0->scikit-image->efficientnet) (2.4.7)\n",
      "Requirement already satisfied, skipping upgrade: kiwisolver>=1.0.1 in /opt/anaconda3/lib/python3.8/site-packages (from matplotlib!=3.0.0,>=2.0.0->scikit-image->efficientnet) (1.2.0)\n",
      "Requirement already satisfied, skipping upgrade: six>=1.5 in /opt/anaconda3/lib/python3.8/site-packages (from python-dateutil>=2.1->matplotlib!=3.0.0,>=2.0.0->scikit-image->efficientnet) (1.15.0)\n"
     ]
    }
   ],
   "source": [
    "# Import libraries\n",
    "import numpy as np # linear algebra\n",
    "import pandas as pd # data processing\n",
    "import matplotlib.pyplot as plt # plotting tools\n",
    "\n",
    "# Train test split\n",
    "from sklearn.model_selection import train_test_split\n",
    "\n",
    "# Import tensorflow\n",
    "import tensorflow as tf\n",
    "\n",
    "# Model & compile arguments\n",
    "from tensorflow.keras.models import Sequential\n",
    "from tensorflow.keras.optimizers import Adam\n",
    "\n",
    "# Get the layers\n",
    "from tensorflow.keras.layers import Dense\n",
    "from tensorflow.keras.layers import Conv2D\n",
    "from tensorflow.keras.layers import MaxPooling2D\n",
    "from tensorflow.keras.layers import GlobalAveragePooling2D\n",
    "from tensorflow.keras.layers import Flatten\n",
    "\n",
    "# Import the Efficientnet models\n",
    "from tensorflow.keras.applications import EfficientNetB0\n",
    "\n",
    "# TF model metrics\n",
    "from tensorflow.keras.metrics import AUC\n",
    "\n",
    "# \n",
    "import librosa\n",
    "import torch\n",
    "\n",
    "# (Install &) Import the nnAudio library for Constant Q-Transform\n",
    "try:\n",
    "    from nnAudio.Spectrogram import CQT1992v2\n",
    "except:\n",
    "    !pip install -q nnAudio\n",
    "    from nnAudio.Spectrogram import CQT1992v2\n",
    "    \n",
    "# Run the state-of-the-art model\n",
    "!pip install -U efficientnet\n",
    "import efficientnet.keras as efn"
   ]
  },
  {
   "cell_type": "code",
   "execution_count": 40,
   "metadata": {},
   "outputs": [],
   "source": [
    "train_label = pd.read_csv('/Users/valiconastrid/Desktop/EKAP S3/SVM et réseaux de neurones/Kaggle/training_labels.csv', header=0)\n",
    "test = pd.read_csv('/Users/valiconastrid/Desktop/EKAP S3/SVM et réseaux de neurones/Kaggle/sample_submission.csv', header=0)"
   ]
  },
  {
   "cell_type": "code",
   "execution_count": 41,
   "metadata": {},
   "outputs": [
    {
     "name": "stdout",
     "output_type": "stream",
     "text": [
      "Training labels: 560000 | Test dataset: 226000\n"
     ]
    }
   ],
   "source": [
    "print(f'Training labels: {train_label.shape[0]} | Test dataset: {test.shape[0]}')"
   ]
  },
  {
   "cell_type": "code",
   "execution_count": 4,
   "metadata": {},
   "outputs": [
    {
     "data": {
      "text/html": [
       "<div>\n",
       "<style scoped>\n",
       "    .dataframe tbody tr th:only-of-type {\n",
       "        vertical-align: middle;\n",
       "    }\n",
       "\n",
       "    .dataframe tbody tr th {\n",
       "        vertical-align: top;\n",
       "    }\n",
       "\n",
       "    .dataframe thead th {\n",
       "        text-align: right;\n",
       "    }\n",
       "</style>\n",
       "<table border=\"1\" class=\"dataframe\">\n",
       "  <thead>\n",
       "    <tr style=\"text-align: right;\">\n",
       "      <th></th>\n",
       "      <th>target</th>\n",
       "    </tr>\n",
       "  </thead>\n",
       "  <tbody>\n",
       "    <tr>\n",
       "      <th>count</th>\n",
       "      <td>560000.000000</td>\n",
       "    </tr>\n",
       "    <tr>\n",
       "      <th>mean</th>\n",
       "      <td>0.499875</td>\n",
       "    </tr>\n",
       "    <tr>\n",
       "      <th>std</th>\n",
       "      <td>0.500000</td>\n",
       "    </tr>\n",
       "    <tr>\n",
       "      <th>min</th>\n",
       "      <td>0.000000</td>\n",
       "    </tr>\n",
       "    <tr>\n",
       "      <th>25%</th>\n",
       "      <td>0.000000</td>\n",
       "    </tr>\n",
       "    <tr>\n",
       "      <th>50%</th>\n",
       "      <td>0.000000</td>\n",
       "    </tr>\n",
       "    <tr>\n",
       "      <th>75%</th>\n",
       "      <td>1.000000</td>\n",
       "    </tr>\n",
       "    <tr>\n",
       "      <th>max</th>\n",
       "      <td>1.000000</td>\n",
       "    </tr>\n",
       "  </tbody>\n",
       "</table>\n",
       "</div>"
      ],
      "text/plain": [
       "              target\n",
       "count  560000.000000\n",
       "mean        0.499875\n",
       "std         0.500000\n",
       "min         0.000000\n",
       "25%         0.000000\n",
       "50%         0.000000\n",
       "75%         1.000000\n",
       "max         1.000000"
      ]
     },
     "execution_count": 4,
     "metadata": {},
     "output_type": "execute_result"
    }
   ],
   "source": [
    "train_label.describe()"
   ]
  },
  {
   "cell_type": "code",
   "execution_count": 24,
   "metadata": {},
   "outputs": [
    {
     "data": {
      "text/plain": [
       "<matplotlib.axes._subplots.AxesSubplot at 0x7feafabb5e20>"
      ]
     },
     "execution_count": 24,
     "metadata": {},
     "output_type": "execute_result"
    },
    {
     "data": {
      "image/png": "[encoded data removed]",
      "text/plain": [
       "<Figure size 432x288 with 1 Axes>"
      ]
     },
     "metadata": {
      "needs_background": "light"
     },
     "output_type": "display_data"
    }
   ],
   "source": [
    "sns.countplot(data=train_label, x=\"target\", palette=\"Set3\", )"
   ]
  },
  {
   "cell_type": "code",
   "execution_count": 4,
   "metadata": {},
   "outputs": [
    {
     "data": {
      "text/plain": [
       "0    280070\n",
       "1    279930\n",
       "Name: target, dtype: int64"
      ]
     },
     "execution_count": 4,
     "metadata": {},
     "output_type": "execute_result"
    }
   ],
   "source": [
    "train_label['target'].value_counts()"
   ]
  },
  {
   "cell_type": "code",
   "execution_count": 5,
   "metadata": {},
   "outputs": [
    {
     "data": {
      "text/plain": [
       "id        0\n",
       "target    0\n",
       "dtype: int64"
      ]
     },
     "execution_count": 5,
     "metadata": {},
     "output_type": "execute_result"
    }
   ],
   "source": [
    "train_label.isnull().sum() # pas de valeurs nulles"
   ]
  },
  {
   "cell_type": "code",
   "execution_count": 5,
   "metadata": {},
   "outputs": [
    {
     "data": {
      "text/plain": [
       "<bound method NDFrame.head of                 id  target\n",
       "0       00000e74ad       1\n",
       "1       00001f4945       0\n",
       "2       0000661522       0\n",
       "3       00007a006a       0\n",
       "4       0000a38978       1\n",
       "...            ...     ...\n",
       "559995  ffff9a5645       1\n",
       "559996  ffffab0c27       0\n",
       "559997  ffffcf161a       1\n",
       "559998  ffffd2c403       0\n",
       "559999  fffff2180b       0\n",
       "\n",
       "[560000 rows x 2 columns]>"
      ]
     },
     "execution_count": 5,
     "metadata": {},
     "output_type": "execute_result"
    }
   ],
   "source": [
    "train_label.head"
   ]
  },
  {
   "cell_type": "code",
   "execution_count": 4,
   "metadata": {},
   "outputs": [],
   "source": [
    "train_path = glob('/Users/valiconastrid/Desktop/EKAP S3/SVM et réseaux de neurones/Kaggle/train/*/*/*/*')"
   ]
  },
  {
   "cell_type": "code",
   "execution_count": 4,
   "metadata": {},
   "outputs": [
    {
     "data": {
      "text/plain": [
       "560000"
      ]
     },
     "execution_count": 4,
     "metadata": {},
     "output_type": "execute_result"
    }
   ],
   "source": [
    "len(train_path)"
   ]
  },
  {
   "cell_type": "code",
   "execution_count": 5,
   "metadata": {},
   "outputs": [
    {
     "data": {
      "text/plain": [
       "array([[-8.97322811e-21, -9.08981214e-21, -9.10781750e-21, ...,\n",
       "         3.19059676e-21,  3.00403337e-21,  2.97857101e-21],\n",
       "       [-7.04594522e-21, -6.65557938e-21, -6.40358462e-21, ...,\n",
       "        -9.99428929e-21, -9.43994447e-21, -9.06500416e-21],\n",
       "       [ 2.08500902e-22,  4.89396387e-23,  2.69404290e-22, ...,\n",
       "        -1.23806894e-21, -8.95287988e-22, -9.39066888e-22]])"
      ]
     },
     "execution_count": 5,
     "metadata": {},
     "output_type": "execute_result"
    }
   ],
   "source": [
    "explore_sample_3 = np.load(train_path[3])\n",
    "explore_sample_3"
   ]
  },
  {
   "cell_type": "code",
   "execution_count": 5,
   "metadata": {},
   "outputs": [
    {
     "data": {
      "text/plain": [
       "array([[-6.51062379e-21, -6.88204098e-21, -6.97219625e-21, ...,\n",
       "        -9.51094963e-21, -1.01669441e-20, -1.04220209e-20],\n",
       "       [ 2.83841773e-21,  2.39752494e-21,  2.33458840e-21, ...,\n",
       "        -3.10904473e-21, -3.07331333e-21, -2.43773611e-21],\n",
       "       [-3.46568308e-21, -3.25792980e-21, -3.34102882e-21, ...,\n",
       "        -1.40477453e-22, -2.92835178e-22, -6.35602957e-23]])"
      ]
     },
     "execution_count": 5,
     "metadata": {},
     "output_type": "execute_result"
    }
   ],
   "source": [
    "explore_sample_2 = np.load(train_path[2])\n",
    "explore_sample_2"
   ]
  },
  {
   "cell_type": "code",
   "execution_count": 35,
   "metadata": {},
   "outputs": [
    {
     "data": {
      "text/plain": [
       "(3, 4096)"
      ]
     },
     "execution_count": 35,
     "metadata": {},
     "output_type": "execute_result"
    }
   ],
   "source": [
    "explore_sample_3.shape"
   ]
  },
  {
   "cell_type": "code",
   "execution_count": 38,
   "metadata": {},
   "outputs": [
    {
     "data": {
      "text/plain": [
       "(3, 4096)"
      ]
     },
     "execution_count": 38,
     "metadata": {},
     "output_type": "execute_result"
    }
   ],
   "source": [
    "explore_sample_2.shape"
   ]
  },
  {
   "cell_type": "code",
   "execution_count": 6,
   "metadata": {},
   "outputs": [
    {
     "name": "stdout",
     "output_type": "stream",
     "text": [
      "4096 4096 4096\n"
     ]
    }
   ],
   "source": [
    "print(len(explore_sample_3[0]), len(explore_sample_3[1]), len(explore_sample_3[2]))"
   ]
  },
  {
   "cell_type": "code",
   "execution_count": 7,
   "metadata": {},
   "outputs": [
    {
     "data": {
      "text/plain": [
       "'/Users/valiconastrid/Desktop/EKAP S3/SVM et réseaux de neurones/Kaggle/train/9/9/9/999f7e72ad.npy'"
      ]
     },
     "execution_count": 7,
     "metadata": {},
     "output_type": "execute_result"
    }
   ],
   "source": [
    "train_path[3]"
   ]
  },
  {
   "cell_type": "code",
   "execution_count": 8,
   "metadata": {},
   "outputs": [
    {
     "data": {
      "text/plain": [
       "'999f7e72ad'"
      ]
     },
     "execution_count": 8,
     "metadata": {},
     "output_type": "execute_result"
    }
   ],
   "source": [
    "rind = train_path[3].rindex('/') # last index where the character '/' appeared\n",
    "extracted_id_for_explore_sample_3 = train_path[3][rind+1:].replace('.npy', '') # replaced .npy\n",
    "extracted_id_for_explore_sample_3"
   ]
  },
  {
   "cell_type": "code",
   "execution_count": 9,
   "metadata": {},
   "outputs": [
    {
     "data": {
      "text/plain": [
       "335552    1\n",
       "Name: target, dtype: int64"
      ]
     },
     "execution_count": 9,
     "metadata": {},
     "output_type": "execute_result"
    }
   ],
   "source": [
    "train_label[train_label['id']==extracted_id_for_explore_sample_3]['target']"
   ]
  },
  {
   "cell_type": "code",
   "execution_count": 10,
   "metadata": {},
   "outputs": [
    {
     "data": {
      "text/plain": [
       "array([[ 1.66000845e-20,  1.63998702e-20,  1.65739614e-20, ...,\n",
       "        -2.12423920e-21, -2.78651559e-21, -3.33370389e-21],\n",
       "       [ 2.67268007e-21,  2.46722653e-21,  2.00417602e-21, ...,\n",
       "         1.70840887e-21,  1.99257486e-21,  1.87521953e-21],\n",
       "       [ 5.23211649e-22,  8.14234979e-22,  8.72233615e-22, ...,\n",
       "         2.25210449e-21,  2.33630955e-21,  2.38980557e-21]])"
      ]
     },
     "execution_count": 10,
     "metadata": {},
     "output_type": "execute_result"
    }
   ],
   "source": [
    "positive_sample = explore_sample_3\n",
    "# index 1 od train_path has a target of 0 so it is a negative sample.\n",
    "negative_sample = np.load(train_path[1])\n",
    "negative_sample"
   ]
  },
  {
   "cell_type": "code",
   "execution_count": 9,
   "metadata": {},
   "outputs": [],
   "source": [
    "samples = (positive_sample, negative_sample)\n",
    "targets = (1, 0)"
   ]
  },
  {
   "cell_type": "code",
   "execution_count": 10,
   "metadata": {},
   "outputs": [
    {
     "name": "stderr",
     "output_type": "stream",
     "text": [
      "\r",
      "0it [00:00, ?it/s]"
     ]
    },
    {
     "data": {
      "image/png": "[encoded data removed]",
      "text/plain": [
       "<Figure size 1152x504 with 3 Axes>"
      ]
     },
     "metadata": {
      "needs_background": "light"
     },
     "output_type": "display_data"
    },
    {
     "name": "stderr",
     "output_type": "stream",
     "text": [
      "\r",
      "1it [00:00,  1.36it/s]"
     ]
    },
    {
     "data": {
      "image/png": "[encoded data removed]",
      "text/plain": [
       "<Figure size 1152x504 with 3 Axes>"
      ]
     },
     "metadata": {
      "needs_background": "light"
     },
     "output_type": "display_data"
    },
    {
     "name": "stderr",
     "output_type": "stream",
     "text": [
      "2it [00:01,  1.57it/s]\n"
     ]
    }
   ],
   "source": [
    "colors = (\"red\", \"green\", \"blue\")\n",
    "signal_names = (\"LIGO Hanford\", \"LIGO Livingston\", \"Virgo\")\n",
    "\n",
    "for x, i in tqdm(zip(samples, targets)):\n",
    "    figure = plt.figure(figsize=(16, 7))\n",
    "    figure.suptitle(f'Raw wave (target={i})', fontsize=20)\n",
    "    # range is 3 because we have 3 different rows for each interferometers\n",
    "    for j in range(3):\n",
    "        axes = figure.add_subplot(3, 1, j+1)\n",
    "        librosa.display.waveshow(x[j], sr=2048, ax=axes, color=colors[j])\n",
    "        axes.set_title(signal_names[j], fontsize=12)\n",
    "        axes.set_xlabel('Time[sec]')\n",
    "    plt.tight_layout()\n",
    "    plt.show()"
   ]
  },
  {
   "cell_type": "code",
   "execution_count": 30,
   "metadata": {},
   "outputs": [
    {
     "ename": "NameError",
     "evalue": "name 'positive_sample' is not defined",
     "output_type": "error",
     "traceback": [
      "\u001b[0;31m---------------------------------------------------------------------------\u001b[0m",
      "\u001b[0;31mNameError\u001b[0m                                 Traceback (most recent call last)",
      "\u001b[0;32m<ipython-input-30-b37585d9ef8c>\u001b[0m in \u001b[0;36m<module>\u001b[0;34m\u001b[0m\n\u001b[0;32m----> 1\u001b[0;31m \u001b[0msns\u001b[0m\u001b[0;34m.\u001b[0m\u001b[0mdistplot\u001b[0m\u001b[0;34m(\u001b[0m\u001b[0mpositive_sample\u001b[0m\u001b[0;34m[\u001b[0m\u001b[0;36m0\u001b[0m\u001b[0;34m,\u001b[0m\u001b[0;34m:\u001b[0m\u001b[0;34m]\u001b[0m\u001b[0;34m)\u001b[0m\u001b[0;34m\u001b[0m\u001b[0;34m\u001b[0m\u001b[0m\n\u001b[0m",
      "\u001b[0;31mNameError\u001b[0m: name 'positive_sample' is not defined"
     ]
    }
   ],
   "source": [
    "sns.distplot(positive_sample[0,:])"
   ]
  },
  {
   "cell_type": "code",
   "execution_count": 6,
   "metadata": {},
   "outputs": [],
   "source": [
    "pd.set_option('display.max_colwidth',None)"
   ]
  },
  {
   "cell_type": "code",
   "execution_count": 7,
   "metadata": {},
   "outputs": [],
   "source": [
    "ids = []\n",
    "for files in train_path:\n",
    "    ids.append(files[files.rindex('/')+1:].replace('.npy',''))\n",
    "df = pd.DataFrame({\"id\":ids,\"path\":train_path})\n",
    "df = pd.merge(df, train_label, on='id')"
   ]
  },
  {
   "cell_type": "code",
   "execution_count": 8,
   "metadata": {},
   "outputs": [
    {
     "data": {
      "text/html": [
       "<div>\n",
       "<style scoped>\n",
       "    .dataframe tbody tr th:only-of-type {\n",
       "        vertical-align: middle;\n",
       "    }\n",
       "\n",
       "    .dataframe tbody tr th {\n",
       "        vertical-align: top;\n",
       "    }\n",
       "\n",
       "    .dataframe thead th {\n",
       "        text-align: right;\n",
       "    }\n",
       "</style>\n",
       "<table border=\"1\" class=\"dataframe\">\n",
       "  <thead>\n",
       "    <tr style=\"text-align: right;\">\n",
       "      <th></th>\n",
       "      <th>id</th>\n",
       "      <th>path</th>\n",
       "      <th>target</th>\n",
       "    </tr>\n",
       "  </thead>\n",
       "  <tbody>\n",
       "    <tr>\n",
       "      <th>0</th>\n",
       "      <td>999ad4156d</td>\n",
       "      <td>/Users/valiconastrid/Desktop/EKAP S3/SVM et réseaux de neurones/Kaggle/train/9/9/9/999ad4156d.npy</td>\n",
       "      <td>0</td>\n",
       "    </tr>\n",
       "    <tr>\n",
       "      <th>1</th>\n",
       "      <td>999b57891b</td>\n",
       "      <td>/Users/valiconastrid/Desktop/EKAP S3/SVM et réseaux de neurones/Kaggle/train/9/9/9/999b57891b.npy</td>\n",
       "      <td>1</td>\n",
       "    </tr>\n",
       "    <tr>\n",
       "      <th>2</th>\n",
       "      <td>999b4f080f</td>\n",
       "      <td>/Users/valiconastrid/Desktop/EKAP S3/SVM et réseaux de neurones/Kaggle/train/9/9/9/999b4f080f.npy</td>\n",
       "      <td>0</td>\n",
       "    </tr>\n",
       "    <tr>\n",
       "      <th>3</th>\n",
       "      <td>999f7e72ad</td>\n",
       "      <td>/Users/valiconastrid/Desktop/EKAP S3/SVM et réseaux de neurones/Kaggle/train/9/9/9/999f7e72ad.npy</td>\n",
       "      <td>1</td>\n",
       "    </tr>\n",
       "    <tr>\n",
       "      <th>4</th>\n",
       "      <td>999a097c74</td>\n",
       "      <td>/Users/valiconastrid/Desktop/EKAP S3/SVM et réseaux de neurones/Kaggle/train/9/9/9/999a097c74.npy</td>\n",
       "      <td>1</td>\n",
       "    </tr>\n",
       "  </tbody>\n",
       "</table>\n",
       "</div>"
      ],
      "text/plain": [
       "           id  \\\n",
       "0  999ad4156d   \n",
       "1  999b57891b   \n",
       "2  999b4f080f   \n",
       "3  999f7e72ad   \n",
       "4  999a097c74   \n",
       "\n",
       "                                                                                                path  \\\n",
       "0  /Users/valiconastrid/Desktop/EKAP S3/SVM et réseaux de neurones/Kaggle/train/9/9/9/999ad4156d.npy   \n",
       "1  /Users/valiconastrid/Desktop/EKAP S3/SVM et réseaux de neurones/Kaggle/train/9/9/9/999b57891b.npy   \n",
       "2  /Users/valiconastrid/Desktop/EKAP S3/SVM et réseaux de neurones/Kaggle/train/9/9/9/999b4f080f.npy   \n",
       "3  /Users/valiconastrid/Desktop/EKAP S3/SVM et réseaux de neurones/Kaggle/train/9/9/9/999f7e72ad.npy   \n",
       "4  /Users/valiconastrid/Desktop/EKAP S3/SVM et réseaux de neurones/Kaggle/train/9/9/9/999a097c74.npy   \n",
       "\n",
       "   target  \n",
       "0       0  \n",
       "1       1  \n",
       "2       0  \n",
       "3       1  \n",
       "4       1  "
      ]
     },
     "execution_count": 8,
     "metadata": {},
     "output_type": "execute_result"
    }
   ],
   "source": [
    "df.head()"
   ]
  },
  {
   "cell_type": "code",
   "execution_count": 9,
   "metadata": {},
   "outputs": [],
   "source": [
    "df.to_csv('tableau_kaggle.csv')"
   ]
  },
  {
   "cell_type": "code",
   "execution_count": 10,
   "metadata": {},
   "outputs": [
    {
     "data": {
      "text/plain": [
       "(560000, 2)"
      ]
     },
     "execution_count": 10,
     "metadata": {},
     "output_type": "execute_result"
    }
   ],
   "source": [
    "train_label.shape"
   ]
  },
  {
   "cell_type": "code",
   "execution_count": 11,
   "metadata": {},
   "outputs": [
    {
     "data": {
      "text/plain": [
       "(560000, 3)"
      ]
     },
     "execution_count": 11,
     "metadata": {},
     "output_type": "execute_result"
    }
   ],
   "source": [
    "df.shape"
   ]
  },
  {
   "cell_type": "code",
   "execution_count": 78,
   "metadata": {},
   "outputs": [
    {
     "data": {
      "text/html": [
       "<div>\n",
       "<style scoped>\n",
       "    .dataframe tbody tr th:only-of-type {\n",
       "        vertical-align: middle;\n",
       "    }\n",
       "\n",
       "    .dataframe tbody tr th {\n",
       "        vertical-align: top;\n",
       "    }\n",
       "\n",
       "    .dataframe thead th {\n",
       "        text-align: right;\n",
       "    }\n",
       "</style>\n",
       "<table border=\"1\" class=\"dataframe\">\n",
       "  <thead>\n",
       "    <tr style=\"text-align: right;\">\n",
       "      <th></th>\n",
       "      <th>id</th>\n",
       "      <th>path</th>\n",
       "      <th>target</th>\n",
       "    </tr>\n",
       "  </thead>\n",
       "  <tbody>\n",
       "    <tr>\n",
       "      <th>0</th>\n",
       "      <td>999ad4156d</td>\n",
       "      <td>/Users/valiconastrid/Desktop/EKAP S3/SVM et réseaux de neurones/Kaggle/train/9/9/9/999ad4156d.npy</td>\n",
       "      <td>0</td>\n",
       "    </tr>\n",
       "    <tr>\n",
       "      <th>1</th>\n",
       "      <td>999b57891b</td>\n",
       "      <td>/Users/valiconastrid/Desktop/EKAP S3/SVM et réseaux de neurones/Kaggle/train/9/9/9/999b57891b.npy</td>\n",
       "      <td>1</td>\n",
       "    </tr>\n",
       "    <tr>\n",
       "      <th>2</th>\n",
       "      <td>999b4f080f</td>\n",
       "      <td>/Users/valiconastrid/Desktop/EKAP S3/SVM et réseaux de neurones/Kaggle/train/9/9/9/999b4f080f.npy</td>\n",
       "      <td>0</td>\n",
       "    </tr>\n",
       "    <tr>\n",
       "      <th>3</th>\n",
       "      <td>999f7e72ad</td>\n",
       "      <td>/Users/valiconastrid/Desktop/EKAP S3/SVM et réseaux de neurones/Kaggle/train/9/9/9/999f7e72ad.npy</td>\n",
       "      <td>1</td>\n",
       "    </tr>\n",
       "    <tr>\n",
       "      <th>4</th>\n",
       "      <td>999a097c74</td>\n",
       "      <td>/Users/valiconastrid/Desktop/EKAP S3/SVM et réseaux de neurones/Kaggle/train/9/9/9/999a097c74.npy</td>\n",
       "      <td>1</td>\n",
       "    </tr>\n",
       "    <tr>\n",
       "      <th>...</th>\n",
       "      <td>...</td>\n",
       "      <td>...</td>\n",
       "      <td>...</td>\n",
       "    </tr>\n",
       "    <tr>\n",
       "      <th>559995</th>\n",
       "      <td>555b06974b</td>\n",
       "      <td>/Users/valiconastrid/Desktop/EKAP S3/SVM et réseaux de neurones/Kaggle/train/5/5/5/555b06974b.npy</td>\n",
       "      <td>1</td>\n",
       "    </tr>\n",
       "    <tr>\n",
       "      <th>559996</th>\n",
       "      <td>555e0035d9</td>\n",
       "      <td>/Users/valiconastrid/Desktop/EKAP S3/SVM et réseaux de neurones/Kaggle/train/5/5/5/555e0035d9.npy</td>\n",
       "      <td>0</td>\n",
       "    </tr>\n",
       "    <tr>\n",
       "      <th>559997</th>\n",
       "      <td>555aef081e</td>\n",
       "      <td>/Users/valiconastrid/Desktop/EKAP S3/SVM et réseaux de neurones/Kaggle/train/5/5/5/555aef081e.npy</td>\n",
       "      <td>0</td>\n",
       "    </tr>\n",
       "    <tr>\n",
       "      <th>559998</th>\n",
       "      <td>555c01f5eb</td>\n",
       "      <td>/Users/valiconastrid/Desktop/EKAP S3/SVM et réseaux de neurones/Kaggle/train/5/5/5/555c01f5eb.npy</td>\n",
       "      <td>1</td>\n",
       "    </tr>\n",
       "    <tr>\n",
       "      <th>559999</th>\n",
       "      <td>555d7a59ce</td>\n",
       "      <td>/Users/valiconastrid/Desktop/EKAP S3/SVM et réseaux de neurones/Kaggle/train/5/5/5/555d7a59ce.npy</td>\n",
       "      <td>0</td>\n",
       "    </tr>\n",
       "  </tbody>\n",
       "</table>\n",
       "<p>560000 rows × 3 columns</p>\n",
       "</div>"
      ],
      "text/plain": [
       "                id  \\\n",
       "0       999ad4156d   \n",
       "1       999b57891b   \n",
       "2       999b4f080f   \n",
       "3       999f7e72ad   \n",
       "4       999a097c74   \n",
       "...            ...   \n",
       "559995  555b06974b   \n",
       "559996  555e0035d9   \n",
       "559997  555aef081e   \n",
       "559998  555c01f5eb   \n",
       "559999  555d7a59ce   \n",
       "\n",
       "                                                                                                     path  \\\n",
       "0       /Users/valiconastrid/Desktop/EKAP S3/SVM et réseaux de neurones/Kaggle/train/9/9/9/999ad4156d.npy   \n",
       "1       /Users/valiconastrid/Desktop/EKAP S3/SVM et réseaux de neurones/Kaggle/train/9/9/9/999b57891b.npy   \n",
       "2       /Users/valiconastrid/Desktop/EKAP S3/SVM et réseaux de neurones/Kaggle/train/9/9/9/999b4f080f.npy   \n",
       "3       /Users/valiconastrid/Desktop/EKAP S3/SVM et réseaux de neurones/Kaggle/train/9/9/9/999f7e72ad.npy   \n",
       "4       /Users/valiconastrid/Desktop/EKAP S3/SVM et réseaux de neurones/Kaggle/train/9/9/9/999a097c74.npy   \n",
       "...                                                                                                   ...   \n",
       "559995  /Users/valiconastrid/Desktop/EKAP S3/SVM et réseaux de neurones/Kaggle/train/5/5/5/555b06974b.npy   \n",
       "559996  /Users/valiconastrid/Desktop/EKAP S3/SVM et réseaux de neurones/Kaggle/train/5/5/5/555e0035d9.npy   \n",
       "559997  /Users/valiconastrid/Desktop/EKAP S3/SVM et réseaux de neurones/Kaggle/train/5/5/5/555aef081e.npy   \n",
       "559998  /Users/valiconastrid/Desktop/EKAP S3/SVM et réseaux de neurones/Kaggle/train/5/5/5/555c01f5eb.npy   \n",
       "559999  /Users/valiconastrid/Desktop/EKAP S3/SVM et réseaux de neurones/Kaggle/train/5/5/5/555d7a59ce.npy   \n",
       "\n",
       "        target  \n",
       "0            0  \n",
       "1            1  \n",
       "2            0  \n",
       "3            1  \n",
       "4            1  \n",
       "...        ...  \n",
       "559995       1  \n",
       "559996       0  \n",
       "559997       0  \n",
       "559998       1  \n",
       "559999       0  \n",
       "\n",
       "[560000 rows x 3 columns]"
      ]
     },
     "execution_count": 78,
     "metadata": {},
     "output_type": "execute_result"
    }
   ],
   "source": [
    "df"
   ]
  },
  {
   "cell_type": "code",
   "execution_count": 29,
   "metadata": {},
   "outputs": [],
   "source": [
    "# let's define some signal parameters\n",
    "sample_rate = 2048 # data is provided at 2048 Hz\n",
    "signal_length = 2 # each signal lasts 2 s\n",
    "fmin, fmax = 20, 500 # filter above 20 Hz, and max 1024 Hz (Nyquist freq = sample_rate/2)\n",
    "hop_length = 64 # hop length parameter for the stft\n",
    "\n",
    "# model compile params\n",
    "batch_size = 250 # size in which data is processed and trained at-once in model\n",
    "epochs = 3 # number of epochs (keep low as dataset is quite large 3~5 is enough as observed)"
   ]
  },
  {
   "cell_type": "code",
   "execution_count": 30,
   "metadata": {},
   "outputs": [],
   "source": [
    "def get_npy_filepath(id_, is_train=True):\n",
    "    path = ''\n",
    "    if is_train:\n",
    "        return f'/Users/valiconastrid/Desktop/EKAP S3/SVM et réseaux de neurones/Kaggle/train/{id_[0]}/{id_[1]}/{id_[2]}/{id_}.npy'\n",
    "    else:\n",
    "        return f'/Users/valiconastrid/Desktop/EKAP S3/SVM et réseaux de neurones/Kaggle/test/{id_[0]}/{id_[1]}/{id_[2]}/{id_}.npy'"
   ]
  },
  {
   "cell_type": "code",
   "execution_count": 31,
   "metadata": {},
   "outputs": [
    {
     "name": "stdout",
     "output_type": "stream",
     "text": [
      "Creating CQT kernels ...\r",
      "CQT kernels created, time used = 0.0143 seconds\n"
     ]
    }
   ],
   "source": [
    "# Define the Constant Q-Transform\n",
    "cq_transform = CQT1992v2(sr=sample_rate, fmin=fmin, fmax=fmax, hop_length=hop_length)\n"
   ]
  },
  {
   "cell_type": "code",
   "execution_count": 32,
   "metadata": {},
   "outputs": [],
   "source": [
    "# function to load the file, preprocess, return the respective Constant Q-transform\n",
    "def parse_function(id_path):\n",
    "    # load the npy file\n",
    "    signals = np.load(id_path.numpy())\n",
    "    \n",
    "    # loop through each signal\n",
    "    for i in range(signals.shape[0]):\n",
    "        # normalize the signal data\n",
    "        signals[i] /= np.max(signals[i])\n",
    "    \n",
    "    # stack the arrays into a single vector\n",
    "    signals = np.hstack(signals)\n",
    "    \n",
    "    # convert the signals to torch.tensor to pass to CQT\n",
    "    signals = torch.from_numpy(signals).float()\n",
    "    \n",
    "    # get the CQT\n",
    "    image = cq_transform(signals)\n",
    "    \n",
    "    # conver the image from torch.tensor to array\n",
    "    image = np.array(image)\n",
    "    \n",
    "    # transpose the image to get right orientation\n",
    "    image = np.transpose(image,(1,2,0))\n",
    "    \n",
    "    # conver the image to tf.tensor and return\n",
    "    return tf.convert_to_tensor(image)"
   ]
  },
  {
   "cell_type": "code",
   "execution_count": null,
   "metadata": {},
   "outputs": [],
   "source": []
  },
  {
   "cell_type": "code",
   "execution_count": 12,
   "metadata": {},
   "outputs": [
    {
     "data": {
      "text/html": [
       "<div>\n",
       "<style scoped>\n",
       "    .dataframe tbody tr th:only-of-type {\n",
       "        vertical-align: middle;\n",
       "    }\n",
       "\n",
       "    .dataframe tbody tr th {\n",
       "        vertical-align: top;\n",
       "    }\n",
       "\n",
       "    .dataframe thead th {\n",
       "        text-align: right;\n",
       "    }\n",
       "</style>\n",
       "<table border=\"1\" class=\"dataframe\">\n",
       "  <thead>\n",
       "    <tr style=\"text-align: right;\">\n",
       "      <th></th>\n",
       "      <th>id</th>\n",
       "      <th>path</th>\n",
       "      <th>target</th>\n",
       "    </tr>\n",
       "  </thead>\n",
       "  <tbody>\n",
       "    <tr>\n",
       "      <th>0</th>\n",
       "      <td>999ad4156d</td>\n",
       "      <td>/Users/valiconastrid/Desktop/EKAP S3/SVM et réseaux de neurones/Kaggle/train/9/9/9/999ad4156d.npy</td>\n",
       "      <td>0</td>\n",
       "    </tr>\n",
       "    <tr>\n",
       "      <th>1</th>\n",
       "      <td>999b57891b</td>\n",
       "      <td>/Users/valiconastrid/Desktop/EKAP S3/SVM et réseaux de neurones/Kaggle/train/9/9/9/999b57891b.npy</td>\n",
       "      <td>1</td>\n",
       "    </tr>\n",
       "    <tr>\n",
       "      <th>2</th>\n",
       "      <td>999b4f080f</td>\n",
       "      <td>/Users/valiconastrid/Desktop/EKAP S3/SVM et réseaux de neurones/Kaggle/train/9/9/9/999b4f080f.npy</td>\n",
       "      <td>0</td>\n",
       "    </tr>\n",
       "    <tr>\n",
       "      <th>3</th>\n",
       "      <td>999f7e72ad</td>\n",
       "      <td>/Users/valiconastrid/Desktop/EKAP S3/SVM et réseaux de neurones/Kaggle/train/9/9/9/999f7e72ad.npy</td>\n",
       "      <td>1</td>\n",
       "    </tr>\n",
       "    <tr>\n",
       "      <th>4</th>\n",
       "      <td>999a097c74</td>\n",
       "      <td>/Users/valiconastrid/Desktop/EKAP S3/SVM et réseaux de neurones/Kaggle/train/9/9/9/999a097c74.npy</td>\n",
       "      <td>1</td>\n",
       "    </tr>\n",
       "    <tr>\n",
       "      <th>...</th>\n",
       "      <td>...</td>\n",
       "      <td>...</td>\n",
       "      <td>...</td>\n",
       "    </tr>\n",
       "    <tr>\n",
       "      <th>559995</th>\n",
       "      <td>555b06974b</td>\n",
       "      <td>/Users/valiconastrid/Desktop/EKAP S3/SVM et réseaux de neurones/Kaggle/train/5/5/5/555b06974b.npy</td>\n",
       "      <td>1</td>\n",
       "    </tr>\n",
       "    <tr>\n",
       "      <th>559996</th>\n",
       "      <td>555e0035d9</td>\n",
       "      <td>/Users/valiconastrid/Desktop/EKAP S3/SVM et réseaux de neurones/Kaggle/train/5/5/5/555e0035d9.npy</td>\n",
       "      <td>0</td>\n",
       "    </tr>\n",
       "    <tr>\n",
       "      <th>559997</th>\n",
       "      <td>555aef081e</td>\n",
       "      <td>/Users/valiconastrid/Desktop/EKAP S3/SVM et réseaux de neurones/Kaggle/train/5/5/5/555aef081e.npy</td>\n",
       "      <td>0</td>\n",
       "    </tr>\n",
       "    <tr>\n",
       "      <th>559998</th>\n",
       "      <td>555c01f5eb</td>\n",
       "      <td>/Users/valiconastrid/Desktop/EKAP S3/SVM et réseaux de neurones/Kaggle/train/5/5/5/555c01f5eb.npy</td>\n",
       "      <td>1</td>\n",
       "    </tr>\n",
       "    <tr>\n",
       "      <th>559999</th>\n",
       "      <td>555d7a59ce</td>\n",
       "      <td>/Users/valiconastrid/Desktop/EKAP S3/SVM et réseaux de neurones/Kaggle/train/5/5/5/555d7a59ce.npy</td>\n",
       "      <td>0</td>\n",
       "    </tr>\n",
       "  </tbody>\n",
       "</table>\n",
       "<p>560000 rows × 3 columns</p>\n",
       "</div>"
      ],
      "text/plain": [
       "                id  \\\n",
       "0       999ad4156d   \n",
       "1       999b57891b   \n",
       "2       999b4f080f   \n",
       "3       999f7e72ad   \n",
       "4       999a097c74   \n",
       "...            ...   \n",
       "559995  555b06974b   \n",
       "559996  555e0035d9   \n",
       "559997  555aef081e   \n",
       "559998  555c01f5eb   \n",
       "559999  555d7a59ce   \n",
       "\n",
       "                                                                                                     path  \\\n",
       "0       /Users/valiconastrid/Desktop/EKAP S3/SVM et réseaux de neurones/Kaggle/train/9/9/9/999ad4156d.npy   \n",
       "1       /Users/valiconastrid/Desktop/EKAP S3/SVM et réseaux de neurones/Kaggle/train/9/9/9/999b57891b.npy   \n",
       "2       /Users/valiconastrid/Desktop/EKAP S3/SVM et réseaux de neurones/Kaggle/train/9/9/9/999b4f080f.npy   \n",
       "3       /Users/valiconastrid/Desktop/EKAP S3/SVM et réseaux de neurones/Kaggle/train/9/9/9/999f7e72ad.npy   \n",
       "4       /Users/valiconastrid/Desktop/EKAP S3/SVM et réseaux de neurones/Kaggle/train/9/9/9/999a097c74.npy   \n",
       "...                                                                                                   ...   \n",
       "559995  /Users/valiconastrid/Desktop/EKAP S3/SVM et réseaux de neurones/Kaggle/train/5/5/5/555b06974b.npy   \n",
       "559996  /Users/valiconastrid/Desktop/EKAP S3/SVM et réseaux de neurones/Kaggle/train/5/5/5/555e0035d9.npy   \n",
       "559997  /Users/valiconastrid/Desktop/EKAP S3/SVM et réseaux de neurones/Kaggle/train/5/5/5/555aef081e.npy   \n",
       "559998  /Users/valiconastrid/Desktop/EKAP S3/SVM et réseaux de neurones/Kaggle/train/5/5/5/555c01f5eb.npy   \n",
       "559999  /Users/valiconastrid/Desktop/EKAP S3/SVM et réseaux de neurones/Kaggle/train/5/5/5/555d7a59ce.npy   \n",
       "\n",
       "        target  \n",
       "0            0  \n",
       "1            1  \n",
       "2            0  \n",
       "3            1  \n",
       "4            1  \n",
       "...        ...  \n",
       "559995       1  \n",
       "559996       0  \n",
       "559997       0  \n",
       "559998       1  \n",
       "559999       0  \n",
       "\n",
       "[560000 rows x 3 columns]"
      ]
     },
     "execution_count": 12,
     "metadata": {},
     "output_type": "execute_result"
    }
   ],
   "source": [
    "df"
   ]
  },
  {
   "cell_type": "code",
   "execution_count": null,
   "metadata": {},
   "outputs": [],
   "source": []
  },
  {
   "cell_type": "code",
   "execution_count": 33,
   "metadata": {},
   "outputs": [
    {
     "name": "stdout",
     "output_type": "stream",
     "text": [
      "(56, 193, 1)\n"
     ]
    }
   ],
   "source": [
    "# plot a sample\n",
    "image = parse_function(tf.convert_to_tensor(df['path'][1]))\n",
    "print(image.shape)"
   ]
  },
  {
   "cell_type": "code",
   "execution_count": 36,
   "metadata": {},
   "outputs": [
    {
     "ename": "TypeError",
     "evalue": "Invalid shape (56, 193, 1) for image data",
     "output_type": "error",
     "traceback": [
      "\u001b[0;31m---------------------------------------------------------------------------\u001b[0m",
      "\u001b[0;31mTypeError\u001b[0m                                 Traceback (most recent call last)",
      "\u001b[0;32m<ipython-input-36-12ba6d47bd7e>\u001b[0m in \u001b[0;36m<module>\u001b[0;34m\u001b[0m\n\u001b[0;32m----> 1\u001b[0;31m \u001b[0mplt\u001b[0m\u001b[0;34m.\u001b[0m\u001b[0mimshow\u001b[0m\u001b[0;34m(\u001b[0m\u001b[0mimage\u001b[0m\u001b[0;34m)\u001b[0m\u001b[0;34m\u001b[0m\u001b[0;34m\u001b[0m\u001b[0m\n\u001b[0m",
      "\u001b[0;32m/opt/anaconda3/lib/python3.8/site-packages/matplotlib/pyplot.py\u001b[0m in \u001b[0;36mimshow\u001b[0;34m(X, cmap, norm, aspect, interpolation, alpha, vmin, vmax, origin, extent, shape, filternorm, filterrad, imlim, resample, url, data, **kwargs)\u001b[0m\n\u001b[1;32m   2643\u001b[0m         \u001b[0mfilterrad\u001b[0m\u001b[0;34m=\u001b[0m\u001b[0;36m4.0\u001b[0m\u001b[0;34m,\u001b[0m \u001b[0mimlim\u001b[0m\u001b[0;34m=\u001b[0m\u001b[0mcbook\u001b[0m\u001b[0;34m.\u001b[0m\u001b[0mdeprecation\u001b[0m\u001b[0;34m.\u001b[0m\u001b[0m_deprecated_parameter\u001b[0m\u001b[0;34m,\u001b[0m\u001b[0;34m\u001b[0m\u001b[0;34m\u001b[0m\u001b[0m\n\u001b[1;32m   2644\u001b[0m         resample=None, url=None, *, data=None, **kwargs):\n\u001b[0;32m-> 2645\u001b[0;31m     __ret = gca().imshow(\n\u001b[0m\u001b[1;32m   2646\u001b[0m         \u001b[0mX\u001b[0m\u001b[0;34m,\u001b[0m \u001b[0mcmap\u001b[0m\u001b[0;34m=\u001b[0m\u001b[0mcmap\u001b[0m\u001b[0;34m,\u001b[0m \u001b[0mnorm\u001b[0m\u001b[0;34m=\u001b[0m\u001b[0mnorm\u001b[0m\u001b[0;34m,\u001b[0m \u001b[0maspect\u001b[0m\u001b[0;34m=\u001b[0m\u001b[0maspect\u001b[0m\u001b[0;34m,\u001b[0m\u001b[0;34m\u001b[0m\u001b[0;34m\u001b[0m\u001b[0m\n\u001b[1;32m   2647\u001b[0m         \u001b[0minterpolation\u001b[0m\u001b[0;34m=\u001b[0m\u001b[0minterpolation\u001b[0m\u001b[0;34m,\u001b[0m \u001b[0malpha\u001b[0m\u001b[0;34m=\u001b[0m\u001b[0malpha\u001b[0m\u001b[0;34m,\u001b[0m \u001b[0mvmin\u001b[0m\u001b[0;34m=\u001b[0m\u001b[0mvmin\u001b[0m\u001b[0;34m,\u001b[0m\u001b[0;34m\u001b[0m\u001b[0;34m\u001b[0m\u001b[0m\n",
      "\u001b[0;32m/opt/anaconda3/lib/python3.8/site-packages/matplotlib/__init__.py\u001b[0m in \u001b[0;36minner\u001b[0;34m(ax, data, *args, **kwargs)\u001b[0m\n\u001b[1;32m   1563\u001b[0m     \u001b[0;32mdef\u001b[0m \u001b[0minner\u001b[0m\u001b[0;34m(\u001b[0m\u001b[0max\u001b[0m\u001b[0;34m,\u001b[0m \u001b[0;34m*\u001b[0m\u001b[0margs\u001b[0m\u001b[0;34m,\u001b[0m \u001b[0mdata\u001b[0m\u001b[0;34m=\u001b[0m\u001b[0;32mNone\u001b[0m\u001b[0;34m,\u001b[0m \u001b[0;34m**\u001b[0m\u001b[0mkwargs\u001b[0m\u001b[0;34m)\u001b[0m\u001b[0;34m:\u001b[0m\u001b[0;34m\u001b[0m\u001b[0;34m\u001b[0m\u001b[0m\n\u001b[1;32m   1564\u001b[0m         \u001b[0;32mif\u001b[0m \u001b[0mdata\u001b[0m \u001b[0;32mis\u001b[0m \u001b[0;32mNone\u001b[0m\u001b[0;34m:\u001b[0m\u001b[0;34m\u001b[0m\u001b[0;34m\u001b[0m\u001b[0m\n\u001b[0;32m-> 1565\u001b[0;31m             \u001b[0;32mreturn\u001b[0m \u001b[0mfunc\u001b[0m\u001b[0;34m(\u001b[0m\u001b[0max\u001b[0m\u001b[0;34m,\u001b[0m \u001b[0;34m*\u001b[0m\u001b[0mmap\u001b[0m\u001b[0;34m(\u001b[0m\u001b[0msanitize_sequence\u001b[0m\u001b[0;34m,\u001b[0m \u001b[0margs\u001b[0m\u001b[0;34m)\u001b[0m\u001b[0;34m,\u001b[0m \u001b[0;34m**\u001b[0m\u001b[0mkwargs\u001b[0m\u001b[0;34m)\u001b[0m\u001b[0;34m\u001b[0m\u001b[0;34m\u001b[0m\u001b[0m\n\u001b[0m\u001b[1;32m   1566\u001b[0m \u001b[0;34m\u001b[0m\u001b[0m\n\u001b[1;32m   1567\u001b[0m         \u001b[0mbound\u001b[0m \u001b[0;34m=\u001b[0m \u001b[0mnew_sig\u001b[0m\u001b[0;34m.\u001b[0m\u001b[0mbind\u001b[0m\u001b[0;34m(\u001b[0m\u001b[0max\u001b[0m\u001b[0;34m,\u001b[0m \u001b[0;34m*\u001b[0m\u001b[0margs\u001b[0m\u001b[0;34m,\u001b[0m \u001b[0;34m**\u001b[0m\u001b[0mkwargs\u001b[0m\u001b[0;34m)\u001b[0m\u001b[0;34m\u001b[0m\u001b[0;34m\u001b[0m\u001b[0m\n",
      "\u001b[0;32m/opt/anaconda3/lib/python3.8/site-packages/matplotlib/cbook/deprecation.py\u001b[0m in \u001b[0;36mwrapper\u001b[0;34m(*args, **kwargs)\u001b[0m\n\u001b[1;32m    356\u001b[0m                 \u001b[0;34mf\"%(removal)s.  If any parameter follows {name!r}, they \"\u001b[0m\u001b[0;34m\u001b[0m\u001b[0;34m\u001b[0m\u001b[0m\n\u001b[1;32m    357\u001b[0m                 f\"should be pass as keyword, not positionally.\")\n\u001b[0;32m--> 358\u001b[0;31m         \u001b[0;32mreturn\u001b[0m \u001b[0mfunc\u001b[0m\u001b[0;34m(\u001b[0m\u001b[0;34m*\u001b[0m\u001b[0margs\u001b[0m\u001b[0;34m,\u001b[0m \u001b[0;34m**\u001b[0m\u001b[0mkwargs\u001b[0m\u001b[0;34m)\u001b[0m\u001b[0;34m\u001b[0m\u001b[0;34m\u001b[0m\u001b[0m\n\u001b[0m\u001b[1;32m    359\u001b[0m \u001b[0;34m\u001b[0m\u001b[0m\n\u001b[1;32m    360\u001b[0m     \u001b[0;32mreturn\u001b[0m \u001b[0mwrapper\u001b[0m\u001b[0;34m\u001b[0m\u001b[0;34m\u001b[0m\u001b[0m\n",
      "\u001b[0;32m/opt/anaconda3/lib/python3.8/site-packages/matplotlib/cbook/deprecation.py\u001b[0m in \u001b[0;36mwrapper\u001b[0;34m(*args, **kwargs)\u001b[0m\n\u001b[1;32m    356\u001b[0m                 \u001b[0;34mf\"%(removal)s.  If any parameter follows {name!r}, they \"\u001b[0m\u001b[0;34m\u001b[0m\u001b[0;34m\u001b[0m\u001b[0m\n\u001b[1;32m    357\u001b[0m                 f\"should be pass as keyword, not positionally.\")\n\u001b[0;32m--> 358\u001b[0;31m         \u001b[0;32mreturn\u001b[0m \u001b[0mfunc\u001b[0m\u001b[0;34m(\u001b[0m\u001b[0;34m*\u001b[0m\u001b[0margs\u001b[0m\u001b[0;34m,\u001b[0m \u001b[0;34m**\u001b[0m\u001b[0mkwargs\u001b[0m\u001b[0;34m)\u001b[0m\u001b[0;34m\u001b[0m\u001b[0;34m\u001b[0m\u001b[0m\n\u001b[0m\u001b[1;32m    359\u001b[0m \u001b[0;34m\u001b[0m\u001b[0m\n\u001b[1;32m    360\u001b[0m     \u001b[0;32mreturn\u001b[0m \u001b[0mwrapper\u001b[0m\u001b[0;34m\u001b[0m\u001b[0;34m\u001b[0m\u001b[0m\n",
      "\u001b[0;32m/opt/anaconda3/lib/python3.8/site-packages/matplotlib/axes/_axes.py\u001b[0m in \u001b[0;36mimshow\u001b[0;34m(self, X, cmap, norm, aspect, interpolation, alpha, vmin, vmax, origin, extent, shape, filternorm, filterrad, imlim, resample, url, **kwargs)\u001b[0m\n\u001b[1;32m   5624\u001b[0m                               resample=resample, **kwargs)\n\u001b[1;32m   5625\u001b[0m \u001b[0;34m\u001b[0m\u001b[0m\n\u001b[0;32m-> 5626\u001b[0;31m         \u001b[0mim\u001b[0m\u001b[0;34m.\u001b[0m\u001b[0mset_data\u001b[0m\u001b[0;34m(\u001b[0m\u001b[0mX\u001b[0m\u001b[0;34m)\u001b[0m\u001b[0;34m\u001b[0m\u001b[0;34m\u001b[0m\u001b[0m\n\u001b[0m\u001b[1;32m   5627\u001b[0m         \u001b[0mim\u001b[0m\u001b[0;34m.\u001b[0m\u001b[0mset_alpha\u001b[0m\u001b[0;34m(\u001b[0m\u001b[0malpha\u001b[0m\u001b[0;34m)\u001b[0m\u001b[0;34m\u001b[0m\u001b[0;34m\u001b[0m\u001b[0m\n\u001b[1;32m   5628\u001b[0m         \u001b[0;32mif\u001b[0m \u001b[0mim\u001b[0m\u001b[0;34m.\u001b[0m\u001b[0mget_clip_path\u001b[0m\u001b[0;34m(\u001b[0m\u001b[0;34m)\u001b[0m \u001b[0;32mis\u001b[0m \u001b[0;32mNone\u001b[0m\u001b[0;34m:\u001b[0m\u001b[0;34m\u001b[0m\u001b[0;34m\u001b[0m\u001b[0m\n",
      "\u001b[0;32m/opt/anaconda3/lib/python3.8/site-packages/matplotlib/image.py\u001b[0m in \u001b[0;36mset_data\u001b[0;34m(self, A)\u001b[0m\n\u001b[1;32m    696\u001b[0m         if not (self._A.ndim == 2\n\u001b[1;32m    697\u001b[0m                 or self._A.ndim == 3 and self._A.shape[-1] in [3, 4]):\n\u001b[0;32m--> 698\u001b[0;31m             raise TypeError(\"Invalid shape {} for image data\"\n\u001b[0m\u001b[1;32m    699\u001b[0m                             .format(self._A.shape))\n\u001b[1;32m    700\u001b[0m \u001b[0;34m\u001b[0m\u001b[0m\n",
      "\u001b[0;31mTypeError\u001b[0m: Invalid shape (56, 193, 1) for image data"
     ]
    },
    {
     "data": {
      "image/png": "[encoded data removed]",
      "text/plain": [
       "<Figure size 432x288 with 1 Axes>"
      ]
     },
     "metadata": {
      "needs_background": "light"
     },
     "output_type": "display_data"
    }
   ],
   "source": [
    "plt.imshow(image)"
   ]
  },
  {
   "cell_type": "code",
   "execution_count": 38,
   "metadata": {},
   "outputs": [],
   "source": [
    "input_shape = (56, 193, 1)"
   ]
  },
  {
   "cell_type": "code",
   "execution_count": 43,
   "metadata": {},
   "outputs": [],
   "source": [
    "X = df['id']\n",
    "y = df['target'].astype('int8').values"
   ]
  },
  {
   "cell_type": "code",
   "execution_count": 44,
   "metadata": {},
   "outputs": [],
   "source": [
    "# Split the training IDs into training & validation datasets\n",
    "X_train, X_valid, y_train, y_valid = train_test_split(X, y, random_state=42, stratify=y)\n",
    "\n",
    "# Assign the test IDs\n",
    "X_test = test[['id']]"
   ]
  },
  {
   "cell_type": "code",
   "execution_count": 46,
   "metadata": {},
   "outputs": [],
   "source": [
    "# the tf_function which is called in the data pipeline. This runs as TF function\n",
    "def tf_parse_function(id_path, y=None):\n",
    "    # pass the id_path to the py_function parse_function\n",
    "    [x] = tf.py_function(func=parse_function, inp=[id_path], Tout=[tf.float32])\n",
    "    \n",
    "#     x.set_shape(signal_shape) # signal_shape\n",
    "    x = tf.ensure_shape(x, input_shape)\n",
    "    \n",
    "    # if train/valid then return x, y; for test only return x\n",
    "    if y is None:\n",
    "        return x\n",
    "    else:\n",
    "        return x, y"
   ]
  },
  {
   "cell_type": "code",
   "execution_count": 62,
   "metadata": {},
   "outputs": [
    {
     "name": "stdout",
     "output_type": "stream",
     "text": [
      "[0 1 0 ... 1 0 0]\n"
     ]
    }
   ],
   "source": [
    "print(y_train)"
   ]
  },
  {
   "cell_type": "code",
   "execution_count": 56,
   "metadata": {},
   "outputs": [],
   "source": [
    "# train dataset\n",
    "# Get the data filepaths as tensor_slices\n",
    "train_dataset = tf.data.Dataset.from_tensor_slices((X_train.apply(get_npy_filepath).values, y_train))\n",
    "\n",
    "# shuffle the dataset\n",
    "train_dataset = train_dataset.shuffle(len(X_train))\n",
    "\n",
    "# apply the map method to tf_parse_function()\n",
    "train_dataset = train_dataset.map(tf_parse_function, num_parallel_calls=tf.data.AUTOTUNE)\n",
    "\n",
    "# set batch size of the dataset\n",
    "train_dataset = train_dataset.batch(batch_size)\n",
    "\n",
    "# prefetch the data\n",
    "train_dataset = train_dataset.prefetch(tf.data.AUTOTUNE)"
   ]
  },
  {
   "cell_type": "code",
   "execution_count": 63,
   "metadata": {},
   "outputs": [],
   "source": [
    "# test dataset\n",
    "# Get the data filepaths as tensor_slices\n",
    "test_dataset = tf.data.Dataset.from_tensor_slices((X_valid.apply(get_npy_filepath).values, y_valid))\n",
    "\n",
    "# apply the map method to tf_parse_function()\n",
    "test_dataset = test_dataset.map(tf_parse_function, num_parallel_calls=tf.data.AUTOTUNE)\n",
    "\n",
    "# set batch size of the dataset\n",
    "test_dataset = test_dataset.batch(batch_size)\n",
    "\n",
    "# prefetch the data\n",
    "test_dataset = test_dataset.prefetch(tf.data.AUTOTUNE)"
   ]
  },
  {
   "cell_type": "code",
   "execution_count": 68,
   "metadata": {},
   "outputs": [],
   "source": [
    "# Instantiate the Sequential model\n",
    "model_cnn = Sequential(name='CNN_model')\n",
    "\n",
    "# Add the first Convoluted2D layer w/ input_shape & MaxPooling2D layer followed by that\n",
    "model_cnn.add(Conv2D(filters=16,\n",
    "                     kernel_size=3,\n",
    "                     input_shape=input_shape,\n",
    "                     activation='relu',\n",
    "                     name='Conv_01'))\n",
    "model_cnn.add(MaxPooling2D(pool_size=2, name='Pool_01'))\n",
    "\n",
    "# Second pair of Conv1D and MaxPooling1D layers\n",
    "model_cnn.add(Conv2D(filters=32,\n",
    "                     kernel_size=3,\n",
    "                     input_shape=input_shape,\n",
    "                     activation='relu',\n",
    "                     name='Conv_02'))\n",
    "model_cnn.add(MaxPooling2D(pool_size=2, name='Pool_02'))\n",
    "\n",
    "# Third pair of Conv1D and MaxPooling1D layers\n",
    "model_cnn.add(Conv2D(filters=64,\n",
    "                     kernel_size=3,\n",
    "                     input_shape=input_shape,\n",
    "                     activation='relu',\n",
    "                     name='Conv_03'))\n",
    "model_cnn.add(MaxPooling2D(pool_size=2, name='Pool_03'))\n",
    "\n",
    "# Add the Flatten layer\n",
    "model_cnn.add(Flatten(name='Flatten'))\n",
    "\n",
    "# Add the Dense layers\n",
    "model_cnn.add(Dense(units=512,\n",
    "                activation='relu',\n",
    "                name='Dense_01'))\n",
    "model_cnn.add(Dense(units=64,\n",
    "                activation='relu',\n",
    "                name='Dense_02'))\n",
    "\n",
    "# Add the final Output layer\n",
    "model_cnn.add(Dense(1, activation='sigmoid', name='Output'))"
   ]
  },
  {
   "cell_type": "code",
   "execution_count": 69,
   "metadata": {},
   "outputs": [
    {
     "name": "stdout",
     "output_type": "stream",
     "text": [
      "Model: \"CNN_model\"\n",
      "_________________________________________________________________\n",
      "Layer (type)                 Output Shape              Param #   \n",
      "=================================================================\n",
      "Conv_01 (Conv2D)             (None, 54, 191, 16)       160       \n",
      "_________________________________________________________________\n",
      "Pool_01 (MaxPooling2D)       (None, 27, 95, 16)        0         \n",
      "_________________________________________________________________\n",
      "Conv_02 (Conv2D)             (None, 25, 93, 32)        4640      \n",
      "_________________________________________________________________\n",
      "Pool_02 (MaxPooling2D)       (None, 12, 46, 32)        0         \n",
      "_________________________________________________________________\n",
      "Conv_03 (Conv2D)             (None, 10, 44, 64)        18496     \n",
      "_________________________________________________________________\n",
      "Pool_03 (MaxPooling2D)       (None, 5, 22, 64)         0         \n",
      "_________________________________________________________________\n",
      "Flatten (Flatten)            (None, 7040)              0         \n",
      "_________________________________________________________________\n",
      "Dense_01 (Dense)             (None, 512)               3604992   \n",
      "_________________________________________________________________\n",
      "Dense_02 (Dense)             (None, 64)                32832     \n",
      "_________________________________________________________________\n",
      "Output (Dense)               (None, 1)                 65        \n",
      "=================================================================\n",
      "Total params: 3,661,185\n",
      "Trainable params: 3,661,185\n",
      "Non-trainable params: 0\n",
      "_________________________________________________________________\n"
     ]
    }
   ],
   "source": [
    "model_cnn.summary()"
   ]
  },
  {
   "cell_type": "code",
   "execution_count": 72,
   "metadata": {},
   "outputs": [],
   "source": [
    "model_cnn.compile(optimizer=Adam(learning_rate=0.0001),\n",
    "                  loss='binary_crossentropy',\n",
    "                  metrics=[[AUC(), 'accuracy']])"
   ]
  },
  {
   "cell_type": "code",
   "execution_count": null,
   "metadata": {},
   "outputs": [],
   "source": []
  },
  {
   "cell_type": "code",
   "execution_count": null,
   "metadata": {},
   "outputs": [],
   "source": []
  },
  {
   "cell_type": "code",
   "execution_count": null,
   "metadata": {},
   "outputs": [],
   "source": []
  }
 ],
 "metadata": {
  "kernelspec": {
   "display_name": "Python 3",
   "language": "python",
   "name": "python3"
  },
  "language_info": {
   "codemirror_mode": {
    "name": "ipython",
    "version": 3
   },
   "file_extension": ".py",
   "mimetype": "text/x-python",
   "name": "python",
   "nbconvert_exporter": "python",
   "pygments_lexer": "ipython3",
   "version": "3.8.3"
  }
 },
 "nbformat": 4,
 "nbformat_minor": 4
}
